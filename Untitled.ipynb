{
 "cells": [
  {
   "cell_type": "code",
   "execution_count": 3,
   "id": "e5058806",
   "metadata": {},
   "outputs": [
    {
     "ename": "ModuleNotFoundError",
     "evalue": "No module named 'skfuzzy'",
     "output_type": "error",
     "traceback": [
      "\u001b[1;31m---------------------------------------------------------------------------\u001b[0m",
      "\u001b[1;31mModuleNotFoundError\u001b[0m                       Traceback (most recent call last)",
      "\u001b[1;32m<ipython-input-3-78fc338db540>\u001b[0m in \u001b[0;36m<module>\u001b[1;34m\u001b[0m\n\u001b[0;32m      1\u001b[0m \u001b[1;31m#IMPORT\u001b[0m\u001b[1;33m\u001b[0m\u001b[1;33m\u001b[0m\u001b[1;33m\u001b[0m\u001b[0m\n\u001b[0;32m      2\u001b[0m \u001b[1;32mimport\u001b[0m \u001b[0mnumpy\u001b[0m \u001b[1;32mas\u001b[0m \u001b[0mnp\u001b[0m\u001b[1;33m\u001b[0m\u001b[1;33m\u001b[0m\u001b[0m\n\u001b[1;32m----> 3\u001b[1;33m \u001b[1;32mimport\u001b[0m \u001b[0mskfuzzy\u001b[0m \u001b[1;32mas\u001b[0m \u001b[0mfuzz\u001b[0m\u001b[1;33m\u001b[0m\u001b[1;33m\u001b[0m\u001b[0m\n\u001b[0m\u001b[0;32m      4\u001b[0m \u001b[1;32mimport\u001b[0m \u001b[0mmatplotlib\u001b[0m\u001b[1;33m.\u001b[0m\u001b[0mpyplot\u001b[0m \u001b[1;32mas\u001b[0m \u001b[0mplt\u001b[0m\u001b[1;33m\u001b[0m\u001b[1;33m\u001b[0m\u001b[0m\n",
      "\u001b[1;31mModuleNotFoundError\u001b[0m: No module named 'skfuzzy'"
     ]
    }
   ],
   "source": [
    "#IMPORT\n",
    "import numpy as np\n",
    "import skfuzzy as fuzz\n",
    "import matplotlib.pyplot as plt"
   ]
  },
  {
   "cell_type": "markdown",
   "id": "af0b1624",
   "metadata": {},
   "source": [
    "a. Rata – rata (avarage)\n",
    "\n",
    " Jarak tempuh paling minimal 1 jam dan paling besar 5 jam\n",
    "\n",
    " Waktu tempuh paling cepat 36 km dan paling lambat 30 km\n",
    "    \n",
    "   Kecepatan Kapal paling minimal 10 knot dan maksimal 32 knot"
   ]
  },
  {
   "cell_type": "code",
   "execution_count": 4,
   "id": "cae1305e",
   "metadata": {},
   "outputs": [
    {
     "ename": "NameError",
     "evalue": "name 'fuzz' is not defined",
     "output_type": "error",
     "traceback": [
      "\u001b[1;31m---------------------------------------------------------------------------\u001b[0m",
      "\u001b[1;31mNameError\u001b[0m                                 Traceback (most recent call last)",
      "\u001b[1;32m<ipython-input-4-afe5bbc096ed>\u001b[0m in \u001b[0;36m<module>\u001b[1;34m\u001b[0m\n\u001b[0;32m      4\u001b[0m \u001b[0mx_waktutempuh\u001b[0m \u001b[1;33m=\u001b[0m \u001b[0mnp\u001b[0m\u001b[1;33m.\u001b[0m\u001b[0marange\u001b[0m\u001b[1;33m(\u001b[0m\u001b[1;36m1\u001b[0m\u001b[1;33m,\u001b[0m \u001b[1;36m5\u001b[0m\u001b[1;33m,\u001b[0m \u001b[1;36m1\u001b[0m\u001b[1;33m)\u001b[0m\u001b[1;33m\u001b[0m\u001b[1;33m\u001b[0m\u001b[0m\n\u001b[0;32m      5\u001b[0m \u001b[1;33m\u001b[0m\u001b[0m\n\u001b[1;32m----> 6\u001b[1;33m \u001b[0mwaktutempuh_kc\u001b[0m \u001b[1;33m=\u001b[0m \u001b[0mfuzz\u001b[0m\u001b[1;33m.\u001b[0m\u001b[0mtrapmf\u001b[0m\u001b[1;33m(\u001b[0m\u001b[0mx_waktutempuh\u001b[0m\u001b[1;33m,\u001b[0m \u001b[1;33m[\u001b[0m\u001b[1;36m1\u001b[0m\u001b[1;33m,\u001b[0m \u001b[1;36m1\u001b[0m\u001b[1;33m,\u001b[0m \u001b[1;36m1\u001b[0m\u001b[1;33m,\u001b[0m \u001b[1;36m5\u001b[0m\u001b[1;33m]\u001b[0m\u001b[1;33m)\u001b[0m\u001b[1;33m\u001b[0m\u001b[1;33m\u001b[0m\u001b[0m\n\u001b[0m\u001b[0;32m      7\u001b[0m \u001b[0mwaktutempuh_bs\u001b[0m \u001b[1;33m=\u001b[0m \u001b[0mfuzz\u001b[0m\u001b[1;33m.\u001b[0m\u001b[0mtrapmf\u001b[0m\u001b[1;33m(\u001b[0m\u001b[0mx_waktutempuh\u001b[0m\u001b[1;33m,\u001b[0m \u001b[1;33m[\u001b[0m\u001b[1;36m1\u001b[0m\u001b[1;33m,\u001b[0m \u001b[1;36m5\u001b[0m\u001b[1;33m,\u001b[0m \u001b[1;36m5\u001b[0m\u001b[1;33m,\u001b[0m \u001b[1;36m5\u001b[0m\u001b[1;33m]\u001b[0m\u001b[1;33m)\u001b[0m\u001b[1;33m\u001b[0m\u001b[1;33m\u001b[0m\u001b[0m\n\u001b[0;32m      8\u001b[0m \u001b[1;33m\u001b[0m\u001b[0m\n",
      "\u001b[1;31mNameError\u001b[0m: name 'fuzz' is not defined"
     ]
    }
   ],
   "source": [
    "#Grafik \n",
    "\n",
    "#grafik waktu tempuh\n",
    "x_waktutempuh = np.arange(1, 5, 1)\n",
    "\n",
    "waktutempuh_kc = fuzz.trapmf(x_waktutempuh, [1, 1, 1, 5])\n",
    "waktutempuh_bs = fuzz.trapmf(x_waktutempuh, [1, 5, 5, 5])\n",
    "\n",
    "fig, ax = plt.subplots(nrows=1, figsize=(7, 4))\n",
    "\n",
    "ax.plot(x_waktutempuh, waktutempuh_kc, 'r', linewidth=1.5, label='minimal')\n",
    "ax.plot(x_waktutempuh, waktutempuh_bs, 'g', linewidth=1.5, label='maksimal')\n",
    "\n",
    "ax.set_title('waktutempuh')\n",
    "ax.legend()\n",
    "\n",
    "plt.tight_layout()\n",
    "\n",
    "#grafik jarak tempuh\n",
    "\n",
    "x_jaraktempuh = np.arange(30, 36, 1)\n",
    "\n",
    "jaraktempuh_lb = fuzz.trapmf(x_proses, [30, 30, 30, 36])\n",
    "jaraktempuh_cp = fuzz.trapmf(x_proses, [30, 36, 36, 1])\n",
    "fig, ax = plt.subplots(nrows=1, figsize=(7, 4))\n",
    "\n",
    "ax.plot(x_jaraktempuh, jaraktempuh_lb, 'r', linewidth=1.5, label='dekat')\n",
    "ax.plot(x_jaraktempuh, jaraktempuh_cp, 'g', linewidth=1.5, label='jauh')\n",
    "\n",
    "ax.set_title('jaraktempuh')\n",
    "ax.legend()\n",
    "\n",
    "plt.tight_layout\n",
    "\n",
    "#grafik kecepatan\n",
    "\n",
    "x_kecepatan = np.arange(10, 32, 1)\n",
    "\n",
    "kecepatan_rd = fuzz.trapmf(x_kecepatan, [10, 10, 10, 32])\n",
    "kecepatan_tg = fuzz.trapmf(x_kecepatan, [10, 32, 32, 32])\n",
    "\n",
    "fig, ax = plt.subplots(nrows=1, figsize=(7, 4))\n",
    "\n",
    "ax.plot(x_kecepatan, kecepatan_rd, 'b', linewidth=1.5, label='Rendah')\n",
    "ax.plot(x_kecepatan, kecepatan_tg, 'g', linewidth=1.5, label='Tinggi')\n",
    "\n",
    "ax.set_title('kecepatan')\n",
    "ax.legend()\n",
    "\n",
    "plt.tight_layout()"
   ]
  },
  {
   "cell_type": "code",
   "execution_count": null,
   "id": "b753580f",
   "metadata": {},
   "outputs": [],
   "source": []
  }
 ],
 "metadata": {
  "kernelspec": {
   "display_name": "Python 3",
   "language": "python",
   "name": "python3"
  },
  "language_info": {
   "codemirror_mode": {
    "name": "ipython",
    "version": 3
   },
   "file_extension": ".py",
   "mimetype": "text/x-python",
   "name": "python",
   "nbconvert_exporter": "python",
   "pygments_lexer": "ipython3",
   "version": "3.9.5"
  }
 },
 "nbformat": 4,
 "nbformat_minor": 5
}
